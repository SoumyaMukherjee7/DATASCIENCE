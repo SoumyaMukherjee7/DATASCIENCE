{
 "cells": [
  {
   "cell_type": "code",
   "execution_count": 2,
   "id": "928f3541-74ee-4654-a177-9207d529809c",
   "metadata": {},
   "outputs": [],
   "source": [
    "s=\"soumya\""
   ]
  },
  {
   "cell_type": "code",
   "execution_count": 3,
   "id": "8931cbf6-be11-495e-b32e-804883fb1f35",
   "metadata": {},
   "outputs": [
    {
     "data": {
      "text/plain": [
       "'soumya'"
      ]
     },
     "execution_count": 3,
     "metadata": {},
     "output_type": "execute_result"
    }
   ],
   "source": [
    "s"
   ]
  },
  {
   "cell_type": "code",
   "execution_count": null,
   "id": "b6983b5a-2e99-4fd9-9fac-cc613fa8fffd",
   "metadata": {},
   "outputs": [],
   "source": [
    "list1=[2,3,4,\"abc\",22.5]\n"
   ]
  },
  {
   "cell_type": "code",
   "execution_count": 3,
   "id": "597cbf4d-daa2-45b5-89c1-15a905538528",
   "metadata": {},
   "outputs": [],
   "source": [
    "float=22.5"
   ]
  },
  {
   "cell_type": "code",
   "execution_count": null,
   "id": "66a082d4-55fe-4058-b677-0642e3f71fac",
   "metadata": {},
   "outputs": [],
   "source": [
    "#2\n",
    "var1=string\n",
    "var2=string\n",
    "var3=list\n",
    "var4=integer"
   ]
  },
  {
   "cell_type": "code",
   "execution_count": 6,
   "id": "d150ed79-4092-4cbc-b3de-7e8dc959f021",
   "metadata": {
    "tags": []
   },
   "outputs": [
    {
     "data": {
      "text/plain": [
       "1"
      ]
     },
     "execution_count": 6,
     "metadata": {},
     "output_type": "execute_result"
    }
   ],
   "source": [
    "#3\n",
    "/ is used to give the quotient.\n",
    "5/2=2\n",
    "% is used to give the remainder.\n",
    "5%2=1\n",
    "// is used for floor division .\n",
    "3//2=1\n",
    "** is used for exponential operation.\n",
    "2**4=16."
   ]
  },
  {
   "cell_type": "code",
   "execution_count": null,
   "id": "a6ded504-c156-4775-8fd9-bf38535f5852",
   "metadata": {},
   "outputs": [],
   "source": [
    "#4\n",
    "my_list = [42, 'Hello', True, 3.14, [1, 2, 3], {'name': 'John', 'age': 25}, None, (1, 2), 5 > 2, 7.8]\n",
    "\n",
    "for element in my_list:\n",
    "    print(f\"Element: {element}, Data Type: {type(element)}\")\n"
   ]
  },
  {
   "cell_type": "code",
   "execution_count": null,
   "id": "0aebf5f0-7d2b-4b83-af98-024f81e508c9",
   "metadata": {},
   "outputs": [],
   "source": [
    "#5\n",
    "A = int(input(\"Enter number A: \"))\n",
    "B = int(input(\"Enter number B: \"))\n",
    "\n",
    "count = 0\n",
    "\n",
    "while A % B == 0:\n",
    "    A = A / B\n",
    "    count += 1\n",
    "\n",
    "print(\"Number A is divisible by number B\", count, \"times.\")\n"
   ]
  },
  {
   "cell_type": "code",
   "execution_count": null,
   "id": "c479d32d-4ee2-4eb0-8ae8-33d0205d1608",
   "metadata": {},
   "outputs": [],
   "source": [
    "#6\n",
    "my_list = [5, 12, 9, 18, 7, 21, 15, 30, 4, 8, 10, 27, 33, 6, 13, 20, 11, 25, 36, 22, 16, 14, 24, 32, 19]\n",
    "\n",
    "for element in my_list:\n",
    "    if element % 3 == 0:\n",
    "        print(element, \"is divisible by 3\")\n",
    "    else:\n",
    "        print(element, \"is not divisible by 3\")\n"
   ]
  },
  {
   "cell_type": "code",
   "execution_count": null,
   "id": "25e02e5c-b325-4e19-ae3f-34a5a34d5f00",
   "metadata": {},
   "outputs": [],
   "source": [
    "#7\n",
    "Immutable data types are those whose values cannot be modified once they are created. \n",
    "When an immutable object is assigned a new value, a new object is created in memory. \n",
    "Examples of immutable data types in Python include integers, floats, strings, and tuples\n",
    "string = \"Hello\"\n",
    "\n",
    "print(string)  # Output: Hello\n",
    "\n",
    "string += \" World\"\n",
    "\n",
    "print(string)  # Output: Hello World\n"
   ]
  }
 ],
 "metadata": {
  "kernelspec": {
   "display_name": "Python 3 (ipykernel)",
   "language": "python",
   "name": "python3"
  },
  "language_info": {
   "codemirror_mode": {
    "name": "ipython",
    "version": 3
   },
   "file_extension": ".py",
   "mimetype": "text/x-python",
   "name": "python",
   "nbconvert_exporter": "python",
   "pygments_lexer": "ipython3",
   "version": "3.10.8"
  },
  "toc-showtags": true
 },
 "nbformat": 4,
 "nbformat_minor": 5
}
